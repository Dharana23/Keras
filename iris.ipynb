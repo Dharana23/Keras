{
  "nbformat": 4,
  "nbformat_minor": 0,
  "metadata": {
    "colab": {
      "name": "iris.ipynb",
      "provenance": [],
      "collapsed_sections": []
    },
    "kernelspec": {
      "name": "python3",
      "display_name": "Python 3"
    },
    "accelerator": "GPU"
  },
  "cells": [
    {
      "cell_type": "code",
      "metadata": {
        "id": "J0PgpfMaU1B_",
        "colab_type": "code",
        "colab": {}
      },
      "source": [
        "import numpy as np\n",
        "from sklearn.datasets import load_iris"
      ],
      "execution_count": 35,
      "outputs": []
    },
    {
      "cell_type": "code",
      "metadata": {
        "id": "QZCirxOoW1KE",
        "colab_type": "code",
        "colab": {}
      },
      "source": [
        "iris = load_iris()"
      ],
      "execution_count": 36,
      "outputs": []
    },
    {
      "cell_type": "code",
      "metadata": {
        "id": "WqdnBgA_W3TE",
        "colab_type": "code",
        "colab": {
          "base_uri": "https://localhost:8080/",
          "height": 1000
        },
        "outputId": "251f669a-e0a5-4647-d539-b9aa4620643e"
      },
      "source": [
        "print(iris.DESCR)"
      ],
      "execution_count": 41,
      "outputs": [
        {
          "output_type": "stream",
          "text": [
            ".. _iris_dataset:\n",
            "\n",
            "Iris plants dataset\n",
            "--------------------\n",
            "\n",
            "**Data Set Characteristics:**\n",
            "\n",
            "    :Number of Instances: 150 (50 in each of three classes)\n",
            "    :Number of Attributes: 4 numeric, predictive attributes and the class\n",
            "    :Attribute Information:\n",
            "        - sepal length in cm\n",
            "        - sepal width in cm\n",
            "        - petal length in cm\n",
            "        - petal width in cm\n",
            "        - class:\n",
            "                - Iris-Setosa\n",
            "                - Iris-Versicolour\n",
            "                - Iris-Virginica\n",
            "                \n",
            "    :Summary Statistics:\n",
            "\n",
            "    ============== ==== ==== ======= ===== ====================\n",
            "                    Min  Max   Mean    SD   Class Correlation\n",
            "    ============== ==== ==== ======= ===== ====================\n",
            "    sepal length:   4.3  7.9   5.84   0.83    0.7826\n",
            "    sepal width:    2.0  4.4   3.05   0.43   -0.4194\n",
            "    petal length:   1.0  6.9   3.76   1.76    0.9490  (high!)\n",
            "    petal width:    0.1  2.5   1.20   0.76    0.9565  (high!)\n",
            "    ============== ==== ==== ======= ===== ====================\n",
            "\n",
            "    :Missing Attribute Values: None\n",
            "    :Class Distribution: 33.3% for each of 3 classes.\n",
            "    :Creator: R.A. Fisher\n",
            "    :Donor: Michael Marshall (MARSHALL%PLU@io.arc.nasa.gov)\n",
            "    :Date: July, 1988\n",
            "\n",
            "The famous Iris database, first used by Sir R.A. Fisher. The dataset is taken\n",
            "from Fisher's paper. Note that it's the same as in R, but not as in the UCI\n",
            "Machine Learning Repository, which has two wrong data points.\n",
            "\n",
            "This is perhaps the best known database to be found in the\n",
            "pattern recognition literature.  Fisher's paper is a classic in the field and\n",
            "is referenced frequently to this day.  (See Duda & Hart, for example.)  The\n",
            "data set contains 3 classes of 50 instances each, where each class refers to a\n",
            "type of iris plant.  One class is linearly separable from the other 2; the\n",
            "latter are NOT linearly separable from each other.\n",
            "\n",
            ".. topic:: References\n",
            "\n",
            "   - Fisher, R.A. \"The use of multiple measurements in taxonomic problems\"\n",
            "     Annual Eugenics, 7, Part II, 179-188 (1936); also in \"Contributions to\n",
            "     Mathematical Statistics\" (John Wiley, NY, 1950).\n",
            "   - Duda, R.O., & Hart, P.E. (1973) Pattern Classification and Scene Analysis.\n",
            "     (Q327.D83) John Wiley & Sons.  ISBN 0-471-22361-1.  See page 218.\n",
            "   - Dasarathy, B.V. (1980) \"Nosing Around the Neighborhood: A New System\n",
            "     Structure and Classification Rule for Recognition in Partially Exposed\n",
            "     Environments\".  IEEE Transactions on Pattern Analysis and Machine\n",
            "     Intelligence, Vol. PAMI-2, No. 1, 67-71.\n",
            "   - Gates, G.W. (1972) \"The Reduced Nearest Neighbor Rule\".  IEEE Transactions\n",
            "     on Information Theory, May 1972, 431-433.\n",
            "   - See also: 1988 MLC Proceedings, 54-64.  Cheeseman et al\"s AUTOCLASS II\n",
            "     conceptual clustering system finds 3 classes in the data.\n",
            "   - Many, many more ...\n"
          ],
          "name": "stdout"
        }
      ]
    },
    {
      "cell_type": "code",
      "metadata": {
        "id": "7d93f184W8Qw",
        "colab_type": "code",
        "colab": {}
      },
      "source": [
        "X = iris.data"
      ],
      "execution_count": 42,
      "outputs": []
    },
    {
      "cell_type": "code",
      "metadata": {
        "id": "ZUf-TFMIXJp6",
        "colab_type": "code",
        "colab": {}
      },
      "source": [
        "y = iris.target"
      ],
      "execution_count": 43,
      "outputs": []
    },
    {
      "cell_type": "code",
      "metadata": {
        "id": "2t3HyQdvXOR9",
        "colab_type": "code",
        "colab": {}
      },
      "source": [
        "from keras.utils import to_categorical"
      ],
      "execution_count": 44,
      "outputs": []
    },
    {
      "cell_type": "code",
      "metadata": {
        "id": "VPBJsX56Xf1p",
        "colab_type": "code",
        "colab": {}
      },
      "source": [
        "y = to_categorical(y)"
      ],
      "execution_count": 45,
      "outputs": []
    },
    {
      "cell_type": "code",
      "metadata": {
        "id": "mKJe9eDBXjuj",
        "colab_type": "code",
        "colab": {
          "base_uri": "https://localhost:8080/",
          "height": 34
        },
        "outputId": "c60aba1c-49df-412b-c429-252ca541f406"
      },
      "source": [
        "y.shape"
      ],
      "execution_count": 46,
      "outputs": [
        {
          "output_type": "execute_result",
          "data": {
            "text/plain": [
              "(150, 3)"
            ]
          },
          "metadata": {
            "tags": []
          },
          "execution_count": 46
        }
      ]
    },
    {
      "cell_type": "code",
      "metadata": {
        "id": "YmcY3xzJXkZZ",
        "colab_type": "code",
        "colab": {}
      },
      "source": [
        "from sklearn.model_selection import train_test_split"
      ],
      "execution_count": 47,
      "outputs": []
    },
    {
      "cell_type": "code",
      "metadata": {
        "id": "vQLkJI4nXsNt",
        "colab_type": "code",
        "colab": {}
      },
      "source": [
        "X_train, X_test, y_train, y_test = train_test_split(X, y, test_size=0.33, random_state=42)"
      ],
      "execution_count": 48,
      "outputs": []
    },
    {
      "cell_type": "code",
      "metadata": {
        "id": "QUQI6x23X6hY",
        "colab_type": "code",
        "colab": {}
      },
      "source": [
        "from sklearn.preprocessing import MinMaxScaler"
      ],
      "execution_count": 49,
      "outputs": []
    },
    {
      "cell_type": "code",
      "metadata": {
        "id": "mnUk_n0hYLB5",
        "colab_type": "code",
        "colab": {}
      },
      "source": [
        "scaler = MinMaxScaler()"
      ],
      "execution_count": 50,
      "outputs": []
    },
    {
      "cell_type": "code",
      "metadata": {
        "id": "0jTu_sguYVIP",
        "colab_type": "code",
        "colab": {
          "base_uri": "https://localhost:8080/",
          "height": 34
        },
        "outputId": "7d75f2d7-ec68-4de3-ed88-f60dc05bf75b"
      },
      "source": [
        "scaler.fit(X_train)"
      ],
      "execution_count": 51,
      "outputs": [
        {
          "output_type": "execute_result",
          "data": {
            "text/plain": [
              "MinMaxScaler(copy=True, feature_range=(0, 1))"
            ]
          },
          "metadata": {
            "tags": []
          },
          "execution_count": 51
        }
      ]
    },
    {
      "cell_type": "code",
      "metadata": {
        "id": "zaKwERhxYXLB",
        "colab_type": "code",
        "colab": {}
      },
      "source": [
        "scaled_X_train = scaler.transform(X_train)"
      ],
      "execution_count": 52,
      "outputs": []
    },
    {
      "cell_type": "code",
      "metadata": {
        "id": "Ey17vwzTYfDQ",
        "colab_type": "code",
        "colab": {}
      },
      "source": [
        "scaled_X_test = scaler.transform(X_test)"
      ],
      "execution_count": 53,
      "outputs": []
    },
    {
      "cell_type": "code",
      "metadata": {
        "id": "-D0V6EiuYnCR",
        "colab_type": "code",
        "colab": {}
      },
      "source": [
        "from keras.models import Sequential\n",
        "from keras.layers import Dense"
      ],
      "execution_count": 54,
      "outputs": []
    },
    {
      "cell_type": "code",
      "metadata": {
        "id": "42_IZinrYyfP",
        "colab_type": "code",
        "colab": {}
      },
      "source": [
        "model = Sequential()\n",
        "model.add(Dense(8, input_dim=4, activation='relu'))\n",
        "model.add(Dense(8, input_dim=4, activation='relu'))\n",
        "model.add(Dense(3, activation='softmax'))\n",
        "model.compile(loss='categorical_crossentropy', optimizer='adam', metrics=['accuracy'])"
      ],
      "execution_count": 56,
      "outputs": []
    },
    {
      "cell_type": "code",
      "metadata": {
        "id": "glFRRfcOY08s",
        "colab_type": "code",
        "colab": {
          "base_uri": "https://localhost:8080/",
          "height": 260
        },
        "outputId": "4dcfe479-d832-474a-a47a-58307f5db28b"
      },
      "source": [
        "model.summary()"
      ],
      "execution_count": 57,
      "outputs": [
        {
          "output_type": "stream",
          "text": [
            "Model: \"sequential_2\"\n",
            "_________________________________________________________________\n",
            "Layer (type)                 Output Shape              Param #   \n",
            "=================================================================\n",
            "dense_1 (Dense)              (None, 8)                 40        \n",
            "_________________________________________________________________\n",
            "dense_2 (Dense)              (None, 8)                 72        \n",
            "_________________________________________________________________\n",
            "dense_3 (Dense)              (None, 3)                 27        \n",
            "=================================================================\n",
            "Total params: 139\n",
            "Trainable params: 139\n",
            "Non-trainable params: 0\n",
            "_________________________________________________________________\n"
          ],
          "name": "stdout"
        }
      ]
    },
    {
      "cell_type": "code",
      "metadata": {
        "id": "kNgy6sRSZpez",
        "colab_type": "code",
        "colab": {
          "base_uri": "https://localhost:8080/",
          "height": 1000
        },
        "outputId": "eb932e81-24df-4280-bc79-dd3bfd8d5507"
      },
      "source": [
        "model.fit(scaled_X_train, y_train, epochs=150, verbose=2)"
      ],
      "execution_count": 59,
      "outputs": [
        {
          "output_type": "stream",
          "text": [
            "Epoch 1/150\n",
            " - 0s - loss: 0.6633 - accuracy: 0.6600\n",
            "Epoch 2/150\n",
            " - 0s - loss: 0.6614 - accuracy: 0.6600\n",
            "Epoch 3/150\n",
            " - 0s - loss: 0.6596 - accuracy: 0.6600\n",
            "Epoch 4/150\n",
            " - 0s - loss: 0.6578 - accuracy: 0.6600\n",
            "Epoch 5/150\n",
            " - 0s - loss: 0.6561 - accuracy: 0.6600\n",
            "Epoch 6/150\n",
            " - 0s - loss: 0.6543 - accuracy: 0.6600\n",
            "Epoch 7/150\n",
            " - 0s - loss: 0.6524 - accuracy: 0.6600\n",
            "Epoch 8/150\n",
            " - 0s - loss: 0.6509 - accuracy: 0.6600\n",
            "Epoch 9/150\n",
            " - 0s - loss: 0.6491 - accuracy: 0.6600\n",
            "Epoch 10/150\n",
            " - 0s - loss: 0.6475 - accuracy: 0.6600\n",
            "Epoch 11/150\n",
            " - 0s - loss: 0.6459 - accuracy: 0.6600\n",
            "Epoch 12/150\n",
            " - 0s - loss: 0.6442 - accuracy: 0.6600\n",
            "Epoch 13/150\n",
            " - 0s - loss: 0.6427 - accuracy: 0.6600\n",
            "Epoch 14/150\n",
            " - 0s - loss: 0.6411 - accuracy: 0.6600\n",
            "Epoch 15/150\n",
            " - 0s - loss: 0.6394 - accuracy: 0.6600\n",
            "Epoch 16/150\n",
            " - 0s - loss: 0.6377 - accuracy: 0.6600\n",
            "Epoch 17/150\n",
            " - 0s - loss: 0.6360 - accuracy: 0.6600\n",
            "Epoch 18/150\n",
            " - 0s - loss: 0.6342 - accuracy: 0.6600\n",
            "Epoch 19/150\n",
            " - 0s - loss: 0.6324 - accuracy: 0.6600\n",
            "Epoch 20/150\n",
            " - 0s - loss: 0.6308 - accuracy: 0.6600\n",
            "Epoch 21/150\n",
            " - 0s - loss: 0.6291 - accuracy: 0.6600\n",
            "Epoch 22/150\n",
            " - 0s - loss: 0.6275 - accuracy: 0.6600\n",
            "Epoch 23/150\n",
            " - 0s - loss: 0.6259 - accuracy: 0.6600\n",
            "Epoch 24/150\n",
            " - 0s - loss: 0.6243 - accuracy: 0.6600\n",
            "Epoch 25/150\n",
            " - 0s - loss: 0.6227 - accuracy: 0.6600\n",
            "Epoch 26/150\n",
            " - 0s - loss: 0.6211 - accuracy: 0.6600\n",
            "Epoch 27/150\n",
            " - 0s - loss: 0.6196 - accuracy: 0.6600\n",
            "Epoch 28/150\n",
            " - 0s - loss: 0.6178 - accuracy: 0.6600\n",
            "Epoch 29/150\n",
            " - 0s - loss: 0.6161 - accuracy: 0.6600\n",
            "Epoch 30/150\n",
            " - 0s - loss: 0.6145 - accuracy: 0.6600\n",
            "Epoch 31/150\n",
            " - 0s - loss: 0.6130 - accuracy: 0.6600\n",
            "Epoch 32/150\n",
            " - 0s - loss: 0.6112 - accuracy: 0.6600\n",
            "Epoch 33/150\n",
            " - 0s - loss: 0.6096 - accuracy: 0.6600\n",
            "Epoch 34/150\n",
            " - 0s - loss: 0.6079 - accuracy: 0.6600\n",
            "Epoch 35/150\n",
            " - 0s - loss: 0.6063 - accuracy: 0.6600\n",
            "Epoch 36/150\n",
            " - 0s - loss: 0.6047 - accuracy: 0.6600\n",
            "Epoch 37/150\n",
            " - 0s - loss: 0.6031 - accuracy: 0.6600\n",
            "Epoch 38/150\n",
            " - 0s - loss: 0.6015 - accuracy: 0.6600\n",
            "Epoch 39/150\n",
            " - 0s - loss: 0.6000 - accuracy: 0.6600\n",
            "Epoch 40/150\n",
            " - 0s - loss: 0.5984 - accuracy: 0.6600\n",
            "Epoch 41/150\n",
            " - 0s - loss: 0.5969 - accuracy: 0.6600\n",
            "Epoch 42/150\n",
            " - 0s - loss: 0.5952 - accuracy: 0.6600\n",
            "Epoch 43/150\n",
            " - 0s - loss: 0.5936 - accuracy: 0.6600\n",
            "Epoch 44/150\n",
            " - 0s - loss: 0.5920 - accuracy: 0.6600\n",
            "Epoch 45/150\n",
            " - 0s - loss: 0.5905 - accuracy: 0.6600\n",
            "Epoch 46/150\n",
            " - 0s - loss: 0.5885 - accuracy: 0.6600\n",
            "Epoch 47/150\n",
            " - 0s - loss: 0.5867 - accuracy: 0.6600\n",
            "Epoch 48/150\n",
            " - 0s - loss: 0.5849 - accuracy: 0.6600\n",
            "Epoch 49/150\n",
            " - 0s - loss: 0.5831 - accuracy: 0.6600\n",
            "Epoch 50/150\n",
            " - 0s - loss: 0.5813 - accuracy: 0.6600\n",
            "Epoch 51/150\n",
            " - 0s - loss: 0.5794 - accuracy: 0.6600\n",
            "Epoch 52/150\n",
            " - 0s - loss: 0.5774 - accuracy: 0.6600\n",
            "Epoch 53/150\n",
            " - 0s - loss: 0.5755 - accuracy: 0.6600\n",
            "Epoch 54/150\n",
            " - 0s - loss: 0.5739 - accuracy: 0.6600\n",
            "Epoch 55/150\n",
            " - 0s - loss: 0.5718 - accuracy: 0.6600\n",
            "Epoch 56/150\n",
            " - 0s - loss: 0.5698 - accuracy: 0.6600\n",
            "Epoch 57/150\n",
            " - 0s - loss: 0.5676 - accuracy: 0.6600\n",
            "Epoch 58/150\n",
            " - 0s - loss: 0.5652 - accuracy: 0.6600\n",
            "Epoch 59/150\n",
            " - 0s - loss: 0.5629 - accuracy: 0.6600\n",
            "Epoch 60/150\n",
            " - 0s - loss: 0.5606 - accuracy: 0.6600\n",
            "Epoch 61/150\n",
            " - 0s - loss: 0.5584 - accuracy: 0.6600\n",
            "Epoch 62/150\n",
            " - 0s - loss: 0.5560 - accuracy: 0.6600\n",
            "Epoch 63/150\n",
            " - 0s - loss: 0.5538 - accuracy: 0.6600\n",
            "Epoch 64/150\n",
            " - 0s - loss: 0.5522 - accuracy: 0.6600\n",
            "Epoch 65/150\n",
            " - 0s - loss: 0.5501 - accuracy: 0.6600\n",
            "Epoch 66/150\n",
            " - 0s - loss: 0.5479 - accuracy: 0.6600\n",
            "Epoch 67/150\n",
            " - 0s - loss: 0.5456 - accuracy: 0.6600\n",
            "Epoch 68/150\n",
            " - 0s - loss: 0.5432 - accuracy: 0.6600\n",
            "Epoch 69/150\n",
            " - 0s - loss: 0.5407 - accuracy: 0.6600\n",
            "Epoch 70/150\n",
            " - 0s - loss: 0.5377 - accuracy: 0.6600\n",
            "Epoch 71/150\n",
            " - 0s - loss: 0.5354 - accuracy: 0.6600\n",
            "Epoch 72/150\n",
            " - 0s - loss: 0.5332 - accuracy: 0.6600\n",
            "Epoch 73/150\n",
            " - 0s - loss: 0.5309 - accuracy: 0.6600\n",
            "Epoch 74/150\n",
            " - 0s - loss: 0.5283 - accuracy: 0.6600\n",
            "Epoch 75/150\n",
            " - 0s - loss: 0.5256 - accuracy: 0.6600\n",
            "Epoch 76/150\n",
            " - 0s - loss: 0.5233 - accuracy: 0.6600\n",
            "Epoch 77/150\n",
            " - 0s - loss: 0.5208 - accuracy: 0.6600\n",
            "Epoch 78/150\n",
            " - 0s - loss: 0.5184 - accuracy: 0.6600\n",
            "Epoch 79/150\n",
            " - 0s - loss: 0.5158 - accuracy: 0.6600\n",
            "Epoch 80/150\n",
            " - 0s - loss: 0.5135 - accuracy: 0.6600\n",
            "Epoch 81/150\n",
            " - 0s - loss: 0.5109 - accuracy: 0.6600\n",
            "Epoch 82/150\n",
            " - 0s - loss: 0.5086 - accuracy: 0.6600\n",
            "Epoch 83/150\n",
            " - 0s - loss: 0.5060 - accuracy: 0.6600\n",
            "Epoch 84/150\n",
            " - 0s - loss: 0.5035 - accuracy: 0.6600\n",
            "Epoch 85/150\n",
            " - 0s - loss: 0.5007 - accuracy: 0.6600\n",
            "Epoch 86/150\n",
            " - 0s - loss: 0.4982 - accuracy: 0.6600\n",
            "Epoch 87/150\n",
            " - 0s - loss: 0.4956 - accuracy: 0.6600\n",
            "Epoch 88/150\n",
            " - 0s - loss: 0.4931 - accuracy: 0.6600\n",
            "Epoch 89/150\n",
            " - 0s - loss: 0.4908 - accuracy: 0.6600\n",
            "Epoch 90/150\n",
            " - 0s - loss: 0.4890 - accuracy: 0.6600\n",
            "Epoch 91/150\n",
            " - 0s - loss: 0.4857 - accuracy: 0.6600\n",
            "Epoch 92/150\n",
            " - 0s - loss: 0.4824 - accuracy: 0.6600\n",
            "Epoch 93/150\n",
            " - 0s - loss: 0.4795 - accuracy: 0.6700\n",
            "Epoch 94/150\n",
            " - 0s - loss: 0.4772 - accuracy: 0.6700\n",
            "Epoch 95/150\n",
            " - 0s - loss: 0.4743 - accuracy: 0.6700\n",
            "Epoch 96/150\n",
            " - 0s - loss: 0.4718 - accuracy: 0.6900\n",
            "Epoch 97/150\n",
            " - 0s - loss: 0.4686 - accuracy: 0.7000\n",
            "Epoch 98/150\n",
            " - 0s - loss: 0.4656 - accuracy: 0.7100\n",
            "Epoch 99/150\n",
            " - 0s - loss: 0.4626 - accuracy: 0.7100\n",
            "Epoch 100/150\n",
            " - 0s - loss: 0.4599 - accuracy: 0.7100\n",
            "Epoch 101/150\n",
            " - 0s - loss: 0.4582 - accuracy: 0.7700\n",
            "Epoch 102/150\n",
            " - 0s - loss: 0.4556 - accuracy: 0.7800\n",
            "Epoch 103/150\n",
            " - 0s - loss: 0.4524 - accuracy: 0.8100\n",
            "Epoch 104/150\n",
            " - 0s - loss: 0.4492 - accuracy: 0.8000\n",
            "Epoch 105/150\n",
            " - 0s - loss: 0.4454 - accuracy: 0.8200\n",
            "Epoch 106/150\n",
            " - 0s - loss: 0.4424 - accuracy: 0.8500\n",
            "Epoch 107/150\n",
            " - 0s - loss: 0.4395 - accuracy: 0.8600\n",
            "Epoch 108/150\n",
            " - 0s - loss: 0.4370 - accuracy: 0.8600\n",
            "Epoch 109/150\n",
            " - 0s - loss: 0.4343 - accuracy: 0.8600\n",
            "Epoch 110/150\n",
            " - 0s - loss: 0.4309 - accuracy: 0.8700\n",
            "Epoch 111/150\n",
            " - 0s - loss: 0.4278 - accuracy: 0.8600\n",
            "Epoch 112/150\n",
            " - 0s - loss: 0.4247 - accuracy: 0.8600\n",
            "Epoch 113/150\n",
            " - 0s - loss: 0.4215 - accuracy: 0.8600\n",
            "Epoch 114/150\n",
            " - 0s - loss: 0.4190 - accuracy: 0.8600\n",
            "Epoch 115/150\n",
            " - 0s - loss: 0.4157 - accuracy: 0.8700\n",
            "Epoch 116/150\n",
            " - 0s - loss: 0.4123 - accuracy: 0.8700\n",
            "Epoch 117/150\n",
            " - 0s - loss: 0.4089 - accuracy: 0.8900\n",
            "Epoch 118/150\n",
            " - 0s - loss: 0.4054 - accuracy: 0.8900\n",
            "Epoch 119/150\n",
            " - 0s - loss: 0.4022 - accuracy: 0.8900\n",
            "Epoch 120/150\n",
            " - 0s - loss: 0.3988 - accuracy: 0.8800\n",
            "Epoch 121/150\n",
            " - 0s - loss: 0.3950 - accuracy: 0.8900\n",
            "Epoch 122/150\n",
            " - 0s - loss: 0.3916 - accuracy: 0.9000\n",
            "Epoch 123/150\n",
            " - 0s - loss: 0.3886 - accuracy: 0.9100\n",
            "Epoch 124/150\n",
            " - 0s - loss: 0.3856 - accuracy: 0.8900\n",
            "Epoch 125/150\n",
            " - 0s - loss: 0.3819 - accuracy: 0.8900\n",
            "Epoch 126/150\n",
            " - 0s - loss: 0.3793 - accuracy: 0.8900\n",
            "Epoch 127/150\n",
            " - 0s - loss: 0.3759 - accuracy: 0.8900\n",
            "Epoch 128/150\n",
            " - 0s - loss: 0.3731 - accuracy: 0.8900\n",
            "Epoch 129/150\n",
            " - 0s - loss: 0.3707 - accuracy: 0.8800\n",
            "Epoch 130/150\n",
            " - 0s - loss: 0.3671 - accuracy: 0.8900\n",
            "Epoch 131/150\n",
            " - 0s - loss: 0.3630 - accuracy: 0.9200\n",
            "Epoch 132/150\n",
            " - 0s - loss: 0.3609 - accuracy: 0.9200\n",
            "Epoch 133/150\n",
            " - 0s - loss: 0.3569 - accuracy: 0.9200\n",
            "Epoch 134/150\n",
            " - 0s - loss: 0.3529 - accuracy: 0.9200\n",
            "Epoch 135/150\n",
            " - 0s - loss: 0.3499 - accuracy: 0.9200\n",
            "Epoch 136/150\n",
            " - 0s - loss: 0.3466 - accuracy: 0.9200\n",
            "Epoch 137/150\n",
            " - 0s - loss: 0.3435 - accuracy: 0.9300\n",
            "Epoch 138/150\n",
            " - 0s - loss: 0.3403 - accuracy: 0.9300\n",
            "Epoch 139/150\n",
            " - 0s - loss: 0.3365 - accuracy: 0.9300\n",
            "Epoch 140/150\n",
            " - 0s - loss: 0.3330 - accuracy: 0.9200\n",
            "Epoch 141/150\n",
            " - 0s - loss: 0.3300 - accuracy: 0.9400\n",
            "Epoch 142/150\n",
            " - 0s - loss: 0.3269 - accuracy: 0.9400\n",
            "Epoch 143/150\n",
            " - 0s - loss: 0.3232 - accuracy: 0.9400\n",
            "Epoch 144/150\n",
            " - 0s - loss: 0.3197 - accuracy: 0.9300\n",
            "Epoch 145/150\n",
            " - 0s - loss: 0.3159 - accuracy: 0.9300\n",
            "Epoch 146/150\n",
            " - 0s - loss: 0.3129 - accuracy: 0.9300\n",
            "Epoch 147/150\n",
            " - 0s - loss: 0.3095 - accuracy: 0.9300\n",
            "Epoch 148/150\n",
            " - 0s - loss: 0.3066 - accuracy: 0.9400\n",
            "Epoch 149/150\n",
            " - 0s - loss: 0.3037 - accuracy: 0.9400\n",
            "Epoch 150/150\n",
            " - 0s - loss: 0.3007 - accuracy: 0.9500\n"
          ],
          "name": "stdout"
        },
        {
          "output_type": "execute_result",
          "data": {
            "text/plain": [
              "<keras.callbacks.callbacks.History at 0x7fc6d03f4f60>"
            ]
          },
          "metadata": {
            "tags": []
          },
          "execution_count": 59
        }
      ]
    },
    {
      "cell_type": "code",
      "metadata": {
        "id": "kxZEf0LCZ6_-",
        "colab_type": "code",
        "colab": {
          "base_uri": "https://localhost:8080/",
          "height": 69
        },
        "outputId": "68ed228d-3511-4f21-9c53-0c81a8f927c3"
      },
      "source": [
        "model.predict_classes(scaled_X_test)"
      ],
      "execution_count": 60,
      "outputs": [
        {
          "output_type": "execute_result",
          "data": {
            "text/plain": [
              "array([1, 0, 2, 1, 1, 0, 1, 2, 2, 1, 2, 0, 0, 0, 0, 1, 2, 1, 1, 2, 0, 1,\n",
              "       0, 2, 1, 2, 2, 2, 0, 0, 0, 0, 1, 0, 0, 2, 1, 0, 0, 0, 2, 1, 1, 0,\n",
              "       0, 1, 1, 2, 1, 2])"
            ]
          },
          "metadata": {
            "tags": []
          },
          "execution_count": 60
        }
      ]
    },
    {
      "cell_type": "code",
      "metadata": {
        "id": "SnqmoNnyaYie",
        "colab_type": "code",
        "colab": {}
      },
      "source": [
        "predictions = model.predict_classes(scaled_X_test)"
      ],
      "execution_count": 61,
      "outputs": []
    },
    {
      "cell_type": "code",
      "metadata": {
        "id": "NXkbwO0wajqi",
        "colab_type": "code",
        "colab": {
          "base_uri": "https://localhost:8080/",
          "height": 69
        },
        "outputId": "daca9a73-9bbb-4fe2-dcf3-61803af2a56c"
      },
      "source": [
        "y_test.argmax(axis=1)"
      ],
      "execution_count": 62,
      "outputs": [
        {
          "output_type": "execute_result",
          "data": {
            "text/plain": [
              "array([1, 0, 2, 1, 1, 0, 1, 2, 1, 1, 2, 0, 0, 0, 0, 1, 2, 1, 1, 2, 0, 2,\n",
              "       0, 2, 2, 2, 2, 2, 0, 0, 0, 0, 1, 0, 0, 2, 1, 0, 0, 0, 2, 1, 1, 0,\n",
              "       0, 1, 2, 2, 1, 2])"
            ]
          },
          "metadata": {
            "tags": []
          },
          "execution_count": 62
        }
      ]
    },
    {
      "cell_type": "code",
      "metadata": {
        "id": "PgAY74l_al_4",
        "colab_type": "code",
        "colab": {}
      },
      "source": [
        "from sklearn.metrics import confusion_matrix, classification_report, accuracy_score"
      ],
      "execution_count": 65,
      "outputs": []
    },
    {
      "cell_type": "code",
      "metadata": {
        "id": "lcXepOZcax65",
        "colab_type": "code",
        "colab": {
          "base_uri": "https://localhost:8080/",
          "height": 69
        },
        "outputId": "19889427-41c1-4d15-951f-6afdb30bed2a"
      },
      "source": [
        "confusion_matrix(y_test.argmax(axis=1), predictions)"
      ],
      "execution_count": 67,
      "outputs": [
        {
          "output_type": "execute_result",
          "data": {
            "text/plain": [
              "array([[19,  0,  0],\n",
              "       [ 0, 14,  1],\n",
              "       [ 0,  3, 13]])"
            ]
          },
          "metadata": {
            "tags": []
          },
          "execution_count": 67
        }
      ]
    },
    {
      "cell_type": "code",
      "metadata": {
        "id": "_6yYeB5Ra-z0",
        "colab_type": "code",
        "colab": {
          "base_uri": "https://localhost:8080/",
          "height": 191
        },
        "outputId": "36e5357e-75d6-46b7-ad86-e66c8e7534f7"
      },
      "source": [
        "print(classification_report(y_test.argmax(axis=1), predictions))"
      ],
      "execution_count": 68,
      "outputs": [
        {
          "output_type": "stream",
          "text": [
            "              precision    recall  f1-score   support\n",
            "\n",
            "           0       1.00      1.00      1.00        19\n",
            "           1       0.82      0.93      0.87        15\n",
            "           2       0.93      0.81      0.87        16\n",
            "\n",
            "    accuracy                           0.92        50\n",
            "   macro avg       0.92      0.92      0.91        50\n",
            "weighted avg       0.92      0.92      0.92        50\n",
            "\n"
          ],
          "name": "stdout"
        }
      ]
    },
    {
      "cell_type": "code",
      "metadata": {
        "id": "TuHx5-ssbILW",
        "colab_type": "code",
        "colab": {
          "base_uri": "https://localhost:8080/",
          "height": 34
        },
        "outputId": "5831cb38-5ec6-4fb9-f802-8747735d637d"
      },
      "source": [
        "print(accuracy_score(y_test.argmax(axis=1), predictions))"
      ],
      "execution_count": 69,
      "outputs": [
        {
          "output_type": "stream",
          "text": [
            "0.92\n"
          ],
          "name": "stdout"
        }
      ]
    },
    {
      "cell_type": "code",
      "metadata": {
        "id": "mjz8sVT3bMhu",
        "colab_type": "code",
        "colab": {}
      },
      "source": [
        ""
      ],
      "execution_count": null,
      "outputs": []
    }
  ]
}