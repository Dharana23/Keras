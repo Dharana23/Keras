{
  "nbformat": 4,
  "nbformat_minor": 0,
  "metadata": {
    "colab": {
      "name": "Keras.ipynb",
      "provenance": [],
      "authorship_tag": "ABX9TyMhvZ6i64M5t8pNaTAPEsy8"
    },
    "kernelspec": {
      "name": "python3",
      "display_name": "Python 3"
    },
    "accelerator": "GPU"
  },
  "cells": [
    {
      "cell_type": "code",
      "metadata": {
        "id": "AgzSabod8goT",
        "colab_type": "code",
        "colab": {}
      },
      "source": [
        "import pandas as pd\n",
        "from keras.models import Sequential\n",
        "from keras.layers import Dense \n",
        "from sklearn.model_selection import train_test_split\n",
        "from sklearn.metrics import confusion_matrix"
      ],
      "execution_count": 0,
      "outputs": []
    },
    {
      "cell_type": "code",
      "metadata": {
        "id": "aB6OcJUW_yBg",
        "colab_type": "code",
        "colab": {
          "resources": {
            "http://localhost:8080/nbextensions/google.colab/files.js": {
              "data": "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",
              "ok": true,
              "headers": [
                [
                  "content-type",
                  "application/javascript"
                ]
              ],
              "status": 200,
              "status_text": ""
            }
          },
          "base_uri": "https://localhost:8080/",
          "height": 74
        },
        "outputId": "a45b4b50-c2fc-4f53-9790-e74ed596887c"
      },
      "source": [
        "from google.colab import files\n",
        "uploaded = files.upload()"
      ],
      "execution_count": 23,
      "outputs": [
        {
          "output_type": "display_data",
          "data": {
            "text/html": [
              "\n",
              "     <input type=\"file\" id=\"files-a1f2d134-c718-4fed-92fc-ae2f265fe275\" name=\"files[]\" multiple disabled />\n",
              "     <output id=\"result-a1f2d134-c718-4fed-92fc-ae2f265fe275\">\n",
              "      Upload widget is only available when the cell has been executed in the\n",
              "      current browser session. Please rerun this cell to enable.\n",
              "      </output>\n",
              "      <script src=\"/nbextensions/google.colab/files.js\"></script> "
            ],
            "text/plain": [
              "<IPython.core.display.HTML object>"
            ]
          },
          "metadata": {
            "tags": []
          }
        },
        {
          "output_type": "stream",
          "text": [
            "Saving diabetes.csv to diabetes (1).csv\n"
          ],
          "name": "stdout"
        }
      ]
    },
    {
      "cell_type": "code",
      "metadata": {
        "id": "j0nO8CSP_9ji",
        "colab_type": "code",
        "colab": {
          "base_uri": "https://localhost:8080/",
          "height": 34
        },
        "outputId": "c550466f-6100-4453-906a-fdd0c58e5265"
      },
      "source": [
        "for fn in uploaded.keys():\n",
        "  print('user uploaded {name} of length {length} bytes'.format(name=fn, length=len(uploaded[fn])))\n",
        "\n",
        "import io\n",
        "diabetes = pd.read_csv(io.StringIO(uploaded['diabetes.csv'].decode('utf-8')))"
      ],
      "execution_count": 24,
      "outputs": [
        {
          "output_type": "stream",
          "text": [
            "user uploaded diabetes.csv of length 23873 bytes\n"
          ],
          "name": "stdout"
        }
      ]
    },
    {
      "cell_type": "code",
      "metadata": {
        "id": "R0SFW2B9BA6E",
        "colab_type": "code",
        "colab": {
          "base_uri": "https://localhost:8080/",
          "height": 185
        },
        "outputId": "73d8abe8-d949-4276-f7ea-8c7f59fb1be8"
      },
      "source": [
        "diabetes.isnull().sum(axis=0)"
      ],
      "execution_count": 25,
      "outputs": [
        {
          "output_type": "execute_result",
          "data": {
            "text/plain": [
              "Pregnancies                 0\n",
              "Glucose                     0\n",
              "BloodPressure               0\n",
              "SkinThickness               0\n",
              "Insulin                     0\n",
              "BMI                         0\n",
              "DiabetesPedigreeFunction    0\n",
              "Age                         0\n",
              "Outcome                     0\n",
              "dtype: int64"
            ]
          },
          "metadata": {
            "tags": []
          },
          "execution_count": 25
        }
      ]
    },
    {
      "cell_type": "code",
      "metadata": {
        "id": "bjzLpzZyBQvb",
        "colab_type": "code",
        "colab": {}
      },
      "source": [
        "X = diabetes.iloc[:, 0:-1]\n",
        "Y = diabetes.iloc[:, -1]"
      ],
      "execution_count": 0,
      "outputs": []
    },
    {
      "cell_type": "code",
      "metadata": {
        "id": "sMA2S6b6BeLQ",
        "colab_type": "code",
        "colab": {}
      },
      "source": [
        "X_train, X_test, y_train, y_test = train_test_split(X, Y, test_size=0.2, random_state=1234, stratify=Y)"
      ],
      "execution_count": 0,
      "outputs": []
    },
    {
      "cell_type": "code",
      "metadata": {
        "id": "BulwUe-lCEzp",
        "colab_type": "code",
        "colab": {}
      },
      "source": [
        "model = Sequential()"
      ],
      "execution_count": 0,
      "outputs": []
    },
    {
      "cell_type": "code",
      "metadata": {
        "id": "0BDR9Z17CXvW",
        "colab_type": "code",
        "colab": {}
      },
      "source": [
        "model.add(Dense(24, input_shape=(8,), activation='relu', kernel_initializer='RandomNormal'))"
      ],
      "execution_count": 0,
      "outputs": []
    },
    {
      "cell_type": "code",
      "metadata": {
        "id": "NEPP8PdODCzs",
        "colab_type": "code",
        "colab": {}
      },
      "source": [
        "model.add(Dense(12, activation='relu', kernel_initializer='RandomNormal'))"
      ],
      "execution_count": 0,
      "outputs": []
    },
    {
      "cell_type": "code",
      "metadata": {
        "id": "5f6oNElUDRB3",
        "colab_type": "code",
        "colab": {}
      },
      "source": [
        "model.add(Dense(1, activation='sigmoid'))"
      ],
      "execution_count": 0,
      "outputs": []
    },
    {
      "cell_type": "code",
      "metadata": {
        "id": "6O1mMxnjDXNp",
        "colab_type": "code",
        "colab": {}
      },
      "source": [
        "model.compile(optimizer='adam', loss='binary_crossentropy', metrics=['accuracy'])"
      ],
      "execution_count": 0,
      "outputs": []
    },
    {
      "cell_type": "code",
      "metadata": {
        "id": "AbCDB1CIEPZy",
        "colab_type": "code",
        "colab": {
          "base_uri": "https://localhost:8080/",
          "height": 1000
        },
        "outputId": "413c58f4-ad74-42dd-971f-ca5b52f97a65"
      },
      "source": [
        "model.fit(X_train, y_train, epochs=160, batch_size=10)"
      ],
      "execution_count": 33,
      "outputs": [
        {
          "output_type": "stream",
          "text": [
            "Epoch 1/160\n",
            "614/614 [==============================] - 0s 396us/step - loss: 0.6845 - accuracy: 0.5928\n",
            "Epoch 2/160\n",
            "614/614 [==============================] - 0s 259us/step - loss: 0.6463 - accuracy: 0.6498\n",
            "Epoch 3/160\n",
            "614/614 [==============================] - 0s 260us/step - loss: 0.6339 - accuracy: 0.6629\n",
            "Epoch 4/160\n",
            "614/614 [==============================] - 0s 270us/step - loss: 0.6210 - accuracy: 0.6580\n",
            "Epoch 5/160\n",
            "614/614 [==============================] - 0s 284us/step - loss: 0.6123 - accuracy: 0.6759\n",
            "Epoch 6/160\n",
            "614/614 [==============================] - 0s 254us/step - loss: 0.6019 - accuracy: 0.6743\n",
            "Epoch 7/160\n",
            "614/614 [==============================] - 0s 254us/step - loss: 0.6055 - accuracy: 0.6759\n",
            "Epoch 8/160\n",
            "614/614 [==============================] - 0s 275us/step - loss: 0.5851 - accuracy: 0.6775\n",
            "Epoch 9/160\n",
            "614/614 [==============================] - 0s 260us/step - loss: 0.5852 - accuracy: 0.7003\n",
            "Epoch 10/160\n",
            "614/614 [==============================] - 0s 266us/step - loss: 0.5827 - accuracy: 0.6938\n",
            "Epoch 11/160\n",
            "614/614 [==============================] - 0s 271us/step - loss: 0.5703 - accuracy: 0.7134\n",
            "Epoch 12/160\n",
            "614/614 [==============================] - 0s 263us/step - loss: 0.5905 - accuracy: 0.6906\n",
            "Epoch 13/160\n",
            "614/614 [==============================] - 0s 253us/step - loss: 0.5737 - accuracy: 0.7101\n",
            "Epoch 14/160\n",
            "614/614 [==============================] - 0s 261us/step - loss: 0.5645 - accuracy: 0.7199\n",
            "Epoch 15/160\n",
            "614/614 [==============================] - 0s 269us/step - loss: 0.5699 - accuracy: 0.7068\n",
            "Epoch 16/160\n",
            "614/614 [==============================] - 0s 264us/step - loss: 0.5715 - accuracy: 0.7101\n",
            "Epoch 17/160\n",
            "614/614 [==============================] - 0s 273us/step - loss: 0.5602 - accuracy: 0.7248\n",
            "Epoch 18/160\n",
            "614/614 [==============================] - 0s 254us/step - loss: 0.5609 - accuracy: 0.7280\n",
            "Epoch 19/160\n",
            "614/614 [==============================] - 0s 270us/step - loss: 0.5566 - accuracy: 0.7280\n",
            "Epoch 20/160\n",
            "614/614 [==============================] - 0s 249us/step - loss: 0.5477 - accuracy: 0.7427\n",
            "Epoch 21/160\n",
            "614/614 [==============================] - 0s 254us/step - loss: 0.5527 - accuracy: 0.7296\n",
            "Epoch 22/160\n",
            "614/614 [==============================] - 0s 276us/step - loss: 0.5507 - accuracy: 0.7313\n",
            "Epoch 23/160\n",
            "614/614 [==============================] - 0s 273us/step - loss: 0.5492 - accuracy: 0.7134\n",
            "Epoch 24/160\n",
            "614/614 [==============================] - 0s 251us/step - loss: 0.5506 - accuracy: 0.7296\n",
            "Epoch 25/160\n",
            "614/614 [==============================] - 0s 257us/step - loss: 0.5477 - accuracy: 0.7329\n",
            "Epoch 26/160\n",
            "614/614 [==============================] - 0s 274us/step - loss: 0.5467 - accuracy: 0.7410\n",
            "Epoch 27/160\n",
            "614/614 [==============================] - 0s 262us/step - loss: 0.5447 - accuracy: 0.7215\n",
            "Epoch 28/160\n",
            "614/614 [==============================] - 0s 264us/step - loss: 0.5467 - accuracy: 0.7296\n",
            "Epoch 29/160\n",
            "614/614 [==============================] - 0s 277us/step - loss: 0.5352 - accuracy: 0.7427\n",
            "Epoch 30/160\n",
            "614/614 [==============================] - 0s 262us/step - loss: 0.5654 - accuracy: 0.7117\n",
            "Epoch 31/160\n",
            "614/614 [==============================] - 0s 256us/step - loss: 0.5400 - accuracy: 0.7280\n",
            "Epoch 32/160\n",
            "614/614 [==============================] - 0s 251us/step - loss: 0.5338 - accuracy: 0.7215\n",
            "Epoch 33/160\n",
            "614/614 [==============================] - 0s 257us/step - loss: 0.5267 - accuracy: 0.7427\n",
            "Epoch 34/160\n",
            "614/614 [==============================] - 0s 268us/step - loss: 0.5270 - accuracy: 0.7378\n",
            "Epoch 35/160\n",
            "614/614 [==============================] - 0s 268us/step - loss: 0.5310 - accuracy: 0.7394\n",
            "Epoch 36/160\n",
            "614/614 [==============================] - 0s 275us/step - loss: 0.5458 - accuracy: 0.7264\n",
            "Epoch 37/160\n",
            "614/614 [==============================] - 0s 259us/step - loss: 0.5294 - accuracy: 0.7443\n",
            "Epoch 38/160\n",
            "614/614 [==============================] - 0s 254us/step - loss: 0.5274 - accuracy: 0.7557\n",
            "Epoch 39/160\n",
            "614/614 [==============================] - 0s 279us/step - loss: 0.5339 - accuracy: 0.7459\n",
            "Epoch 40/160\n",
            "614/614 [==============================] - 0s 256us/step - loss: 0.5187 - accuracy: 0.7459\n",
            "Epoch 41/160\n",
            "614/614 [==============================] - 0s 272us/step - loss: 0.5194 - accuracy: 0.7508\n",
            "Epoch 42/160\n",
            "614/614 [==============================] - 0s 280us/step - loss: 0.5240 - accuracy: 0.7476\n",
            "Epoch 43/160\n",
            "614/614 [==============================] - 0s 253us/step - loss: 0.5228 - accuracy: 0.7508\n",
            "Epoch 44/160\n",
            "614/614 [==============================] - 0s 253us/step - loss: 0.5266 - accuracy: 0.7508\n",
            "Epoch 45/160\n",
            "614/614 [==============================] - 0s 257us/step - loss: 0.5328 - accuracy: 0.7459\n",
            "Epoch 46/160\n",
            "614/614 [==============================] - 0s 275us/step - loss: 0.5177 - accuracy: 0.7557\n",
            "Epoch 47/160\n",
            "614/614 [==============================] - 0s 274us/step - loss: 0.5169 - accuracy: 0.7541\n",
            "Epoch 48/160\n",
            "614/614 [==============================] - 0s 270us/step - loss: 0.5156 - accuracy: 0.7557\n",
            "Epoch 49/160\n",
            "614/614 [==============================] - 0s 265us/step - loss: 0.5161 - accuracy: 0.7606\n",
            "Epoch 50/160\n",
            "614/614 [==============================] - 0s 268us/step - loss: 0.5102 - accuracy: 0.7590\n",
            "Epoch 51/160\n",
            "614/614 [==============================] - 0s 281us/step - loss: 0.5175 - accuracy: 0.7541\n",
            "Epoch 52/160\n",
            "614/614 [==============================] - 0s 267us/step - loss: 0.5124 - accuracy: 0.7508\n",
            "Epoch 53/160\n",
            "614/614 [==============================] - 0s 278us/step - loss: 0.5245 - accuracy: 0.7476\n",
            "Epoch 54/160\n",
            "614/614 [==============================] - 0s 277us/step - loss: 0.5195 - accuracy: 0.7443\n",
            "Epoch 55/160\n",
            "614/614 [==============================] - 0s 255us/step - loss: 0.5104 - accuracy: 0.7590\n",
            "Epoch 56/160\n",
            "614/614 [==============================] - 0s 254us/step - loss: 0.5077 - accuracy: 0.7362\n",
            "Epoch 57/160\n",
            "614/614 [==============================] - 0s 253us/step - loss: 0.5170 - accuracy: 0.7524\n",
            "Epoch 58/160\n",
            "614/614 [==============================] - 0s 256us/step - loss: 0.5056 - accuracy: 0.7622\n",
            "Epoch 59/160\n",
            "614/614 [==============================] - 0s 287us/step - loss: 0.5026 - accuracy: 0.7638\n",
            "Epoch 60/160\n",
            "614/614 [==============================] - 0s 267us/step - loss: 0.5069 - accuracy: 0.7622\n",
            "Epoch 61/160\n",
            "614/614 [==============================] - 0s 267us/step - loss: 0.4981 - accuracy: 0.7671\n",
            "Epoch 62/160\n",
            "614/614 [==============================] - 0s 254us/step - loss: 0.4977 - accuracy: 0.7606\n",
            "Epoch 63/160\n",
            "614/614 [==============================] - 0s 247us/step - loss: 0.5005 - accuracy: 0.7541\n",
            "Epoch 64/160\n",
            "614/614 [==============================] - 0s 257us/step - loss: 0.5031 - accuracy: 0.7557\n",
            "Epoch 65/160\n",
            "614/614 [==============================] - 0s 277us/step - loss: 0.5000 - accuracy: 0.7557\n",
            "Epoch 66/160\n",
            "614/614 [==============================] - 0s 268us/step - loss: 0.4983 - accuracy: 0.7573\n",
            "Epoch 67/160\n",
            "614/614 [==============================] - 0s 253us/step - loss: 0.4956 - accuracy: 0.7638\n",
            "Epoch 68/160\n",
            "614/614 [==============================] - 0s 263us/step - loss: 0.4933 - accuracy: 0.7704\n",
            "Epoch 69/160\n",
            "614/614 [==============================] - 0s 264us/step - loss: 0.4943 - accuracy: 0.7573\n",
            "Epoch 70/160\n",
            "614/614 [==============================] - 0s 252us/step - loss: 0.4921 - accuracy: 0.7704\n",
            "Epoch 71/160\n",
            "614/614 [==============================] - 0s 267us/step - loss: 0.4906 - accuracy: 0.7736\n",
            "Epoch 72/160\n",
            "614/614 [==============================] - 0s 264us/step - loss: 0.4932 - accuracy: 0.7720\n",
            "Epoch 73/160\n",
            "614/614 [==============================] - 0s 264us/step - loss: 0.4834 - accuracy: 0.7720\n",
            "Epoch 74/160\n",
            "614/614 [==============================] - 0s 256us/step - loss: 0.4858 - accuracy: 0.7736\n",
            "Epoch 75/160\n",
            "614/614 [==============================] - 0s 255us/step - loss: 0.4903 - accuracy: 0.7785\n",
            "Epoch 76/160\n",
            "614/614 [==============================] - 0s 258us/step - loss: 0.4820 - accuracy: 0.7720\n",
            "Epoch 77/160\n",
            "614/614 [==============================] - 0s 268us/step - loss: 0.4941 - accuracy: 0.7638\n",
            "Epoch 78/160\n",
            "614/614 [==============================] - 0s 257us/step - loss: 0.4837 - accuracy: 0.7785\n",
            "Epoch 79/160\n",
            "614/614 [==============================] - 0s 281us/step - loss: 0.4792 - accuracy: 0.7752\n",
            "Epoch 80/160\n",
            "614/614 [==============================] - 0s 261us/step - loss: 0.4814 - accuracy: 0.7687\n",
            "Epoch 81/160\n",
            "614/614 [==============================] - 0s 261us/step - loss: 0.4811 - accuracy: 0.7638\n",
            "Epoch 82/160\n",
            "614/614 [==============================] - 0s 268us/step - loss: 0.4802 - accuracy: 0.7834\n",
            "Epoch 83/160\n",
            "614/614 [==============================] - 0s 259us/step - loss: 0.4836 - accuracy: 0.7752\n",
            "Epoch 84/160\n",
            "614/614 [==============================] - 0s 269us/step - loss: 0.4829 - accuracy: 0.7801\n",
            "Epoch 85/160\n",
            "614/614 [==============================] - 0s 268us/step - loss: 0.4714 - accuracy: 0.7752\n",
            "Epoch 86/160\n",
            "614/614 [==============================] - 0s 260us/step - loss: 0.4736 - accuracy: 0.7866\n",
            "Epoch 87/160\n",
            "614/614 [==============================] - 0s 260us/step - loss: 0.4677 - accuracy: 0.7850\n",
            "Epoch 88/160\n",
            "614/614 [==============================] - 0s 249us/step - loss: 0.4712 - accuracy: 0.7850\n",
            "Epoch 89/160\n",
            "614/614 [==============================] - 0s 256us/step - loss: 0.4718 - accuracy: 0.7818\n",
            "Epoch 90/160\n",
            "614/614 [==============================] - 0s 269us/step - loss: 0.4848 - accuracy: 0.7638\n",
            "Epoch 91/160\n",
            "614/614 [==============================] - 0s 270us/step - loss: 0.4666 - accuracy: 0.7866\n",
            "Epoch 92/160\n",
            "614/614 [==============================] - 0s 264us/step - loss: 0.4783 - accuracy: 0.7834\n",
            "Epoch 93/160\n",
            "614/614 [==============================] - 0s 250us/step - loss: 0.4682 - accuracy: 0.7769\n",
            "Epoch 94/160\n",
            "614/614 [==============================] - 0s 252us/step - loss: 0.4711 - accuracy: 0.7850\n",
            "Epoch 95/160\n",
            "614/614 [==============================] - 0s 286us/step - loss: 0.4705 - accuracy: 0.7883\n",
            "Epoch 96/160\n",
            "614/614 [==============================] - 0s 265us/step - loss: 0.4712 - accuracy: 0.7655\n",
            "Epoch 97/160\n",
            "614/614 [==============================] - 0s 272us/step - loss: 0.4839 - accuracy: 0.7687\n",
            "Epoch 98/160\n",
            "614/614 [==============================] - 0s 256us/step - loss: 0.4709 - accuracy: 0.7801\n",
            "Epoch 99/160\n",
            "614/614 [==============================] - 0s 251us/step - loss: 0.4627 - accuracy: 0.7850\n",
            "Epoch 100/160\n",
            "614/614 [==============================] - 0s 258us/step - loss: 0.4624 - accuracy: 0.7866\n",
            "Epoch 101/160\n",
            "614/614 [==============================] - 0s 265us/step - loss: 0.4570 - accuracy: 0.7801\n",
            "Epoch 102/160\n",
            "614/614 [==============================] - 0s 281us/step - loss: 0.4623 - accuracy: 0.8029\n",
            "Epoch 103/160\n",
            "614/614 [==============================] - 0s 261us/step - loss: 0.4505 - accuracy: 0.7915\n",
            "Epoch 104/160\n",
            "614/614 [==============================] - 0s 272us/step - loss: 0.4509 - accuracy: 0.7883\n",
            "Epoch 105/160\n",
            "614/614 [==============================] - 0s 259us/step - loss: 0.4610 - accuracy: 0.7834\n",
            "Epoch 106/160\n",
            "614/614 [==============================] - 0s 252us/step - loss: 0.4591 - accuracy: 0.7932\n",
            "Epoch 107/160\n",
            "614/614 [==============================] - 0s 265us/step - loss: 0.4582 - accuracy: 0.7932\n",
            "Epoch 108/160\n",
            "614/614 [==============================] - 0s 272us/step - loss: 0.4521 - accuracy: 0.7834\n",
            "Epoch 109/160\n",
            "614/614 [==============================] - 0s 261us/step - loss: 0.4555 - accuracy: 0.7915\n",
            "Epoch 110/160\n",
            "614/614 [==============================] - 0s 269us/step - loss: 0.4561 - accuracy: 0.7687\n",
            "Epoch 111/160\n",
            "614/614 [==============================] - 0s 264us/step - loss: 0.4531 - accuracy: 0.7899\n",
            "Epoch 112/160\n",
            "614/614 [==============================] - 0s 255us/step - loss: 0.4616 - accuracy: 0.7818\n",
            "Epoch 113/160\n",
            "614/614 [==============================] - 0s 272us/step - loss: 0.4496 - accuracy: 0.7785\n",
            "Epoch 114/160\n",
            "614/614 [==============================] - 0s 281us/step - loss: 0.4492 - accuracy: 0.7866\n",
            "Epoch 115/160\n",
            "614/614 [==============================] - 0s 270us/step - loss: 0.4520 - accuracy: 0.7899\n",
            "Epoch 116/160\n",
            "614/614 [==============================] - 0s 288us/step - loss: 0.4555 - accuracy: 0.7997\n",
            "Epoch 117/160\n",
            "614/614 [==============================] - 0s 269us/step - loss: 0.4535 - accuracy: 0.7932\n",
            "Epoch 118/160\n",
            "614/614 [==============================] - 0s 293us/step - loss: 0.4503 - accuracy: 0.7932\n",
            "Epoch 119/160\n",
            "614/614 [==============================] - 0s 266us/step - loss: 0.4648 - accuracy: 0.7801\n",
            "Epoch 120/160\n",
            "614/614 [==============================] - 0s 277us/step - loss: 0.4397 - accuracy: 0.8029\n",
            "Epoch 121/160\n",
            "614/614 [==============================] - 0s 268us/step - loss: 0.4416 - accuracy: 0.7915\n",
            "Epoch 122/160\n",
            "614/614 [==============================] - 0s 278us/step - loss: 0.4448 - accuracy: 0.7964\n",
            "Epoch 123/160\n",
            "614/614 [==============================] - 0s 264us/step - loss: 0.4352 - accuracy: 0.7997\n",
            "Epoch 124/160\n",
            "614/614 [==============================] - 0s 264us/step - loss: 0.4499 - accuracy: 0.7899\n",
            "Epoch 125/160\n",
            "614/614 [==============================] - 0s 266us/step - loss: 0.4430 - accuracy: 0.8111\n",
            "Epoch 126/160\n",
            "614/614 [==============================] - 0s 289us/step - loss: 0.4492 - accuracy: 0.7997\n",
            "Epoch 127/160\n",
            "614/614 [==============================] - 0s 271us/step - loss: 0.4452 - accuracy: 0.7964\n",
            "Epoch 128/160\n",
            "614/614 [==============================] - 0s 279us/step - loss: 0.4483 - accuracy: 0.7899\n",
            "Epoch 129/160\n",
            "614/614 [==============================] - 0s 266us/step - loss: 0.4370 - accuracy: 0.8062\n",
            "Epoch 130/160\n",
            "614/614 [==============================] - 0s 291us/step - loss: 0.4283 - accuracy: 0.7964\n",
            "Epoch 131/160\n",
            "614/614 [==============================] - 0s 263us/step - loss: 0.4378 - accuracy: 0.7915\n",
            "Epoch 132/160\n",
            "614/614 [==============================] - 0s 285us/step - loss: 0.4324 - accuracy: 0.7932\n",
            "Epoch 133/160\n",
            "614/614 [==============================] - 0s 285us/step - loss: 0.4350 - accuracy: 0.8013\n",
            "Epoch 134/160\n",
            "614/614 [==============================] - 0s 283us/step - loss: 0.4370 - accuracy: 0.7948\n",
            "Epoch 135/160\n",
            "614/614 [==============================] - 0s 266us/step - loss: 0.4436 - accuracy: 0.7964\n",
            "Epoch 136/160\n",
            "614/614 [==============================] - 0s 266us/step - loss: 0.4368 - accuracy: 0.8029\n",
            "Epoch 137/160\n",
            "614/614 [==============================] - 0s 274us/step - loss: 0.4530 - accuracy: 0.7866\n",
            "Epoch 138/160\n",
            "614/614 [==============================] - 0s 283us/step - loss: 0.4379 - accuracy: 0.8013\n",
            "Epoch 139/160\n",
            "614/614 [==============================] - 0s 264us/step - loss: 0.4610 - accuracy: 0.7980\n",
            "Epoch 140/160\n",
            "614/614 [==============================] - 0s 294us/step - loss: 0.4229 - accuracy: 0.8078\n",
            "Epoch 141/160\n",
            "614/614 [==============================] - 0s 273us/step - loss: 0.4253 - accuracy: 0.8046\n",
            "Epoch 142/160\n",
            "614/614 [==============================] - 0s 267us/step - loss: 0.4407 - accuracy: 0.7915\n",
            "Epoch 143/160\n",
            "614/614 [==============================] - 0s 271us/step - loss: 0.4209 - accuracy: 0.8029\n",
            "Epoch 144/160\n",
            "614/614 [==============================] - 0s 274us/step - loss: 0.4253 - accuracy: 0.7834\n",
            "Epoch 145/160\n",
            "614/614 [==============================] - 0s 262us/step - loss: 0.4374 - accuracy: 0.7899\n",
            "Epoch 146/160\n",
            "614/614 [==============================] - 0s 283us/step - loss: 0.4177 - accuracy: 0.7915\n",
            "Epoch 147/160\n",
            "614/614 [==============================] - 0s 279us/step - loss: 0.4369 - accuracy: 0.7818\n",
            "Epoch 148/160\n",
            "614/614 [==============================] - 0s 267us/step - loss: 0.4261 - accuracy: 0.7980\n",
            "Epoch 149/160\n",
            "614/614 [==============================] - 0s 272us/step - loss: 0.4153 - accuracy: 0.8192\n",
            "Epoch 150/160\n",
            "614/614 [==============================] - 0s 274us/step - loss: 0.4279 - accuracy: 0.7948\n",
            "Epoch 151/160\n",
            "614/614 [==============================] - 0s 270us/step - loss: 0.4286 - accuracy: 0.8029\n",
            "Epoch 152/160\n",
            "614/614 [==============================] - 0s 279us/step - loss: 0.4200 - accuracy: 0.7899\n",
            "Epoch 153/160\n",
            "614/614 [==============================] - 0s 261us/step - loss: 0.4258 - accuracy: 0.7997\n",
            "Epoch 154/160\n",
            "614/614 [==============================] - 0s 270us/step - loss: 0.4184 - accuracy: 0.8111\n",
            "Epoch 155/160\n",
            "614/614 [==============================] - 0s 286us/step - loss: 0.4261 - accuracy: 0.8046\n",
            "Epoch 156/160\n",
            "614/614 [==============================] - 0s 277us/step - loss: 0.4325 - accuracy: 0.7964\n",
            "Epoch 157/160\n",
            "614/614 [==============================] - 0s 266us/step - loss: 0.4109 - accuracy: 0.8257\n",
            "Epoch 158/160\n",
            "614/614 [==============================] - 0s 281us/step - loss: 0.4235 - accuracy: 0.7932\n",
            "Epoch 159/160\n",
            "614/614 [==============================] - 0s 261us/step - loss: 0.4205 - accuracy: 0.8046\n",
            "Epoch 160/160\n",
            "614/614 [==============================] - 0s 267us/step - loss: 0.4095 - accuracy: 0.8094\n"
          ],
          "name": "stdout"
        },
        {
          "output_type": "execute_result",
          "data": {
            "text/plain": [
              "<keras.callbacks.callbacks.History at 0x7f59ce311390>"
            ]
          },
          "metadata": {
            "tags": []
          },
          "execution_count": 33
        }
      ]
    },
    {
      "cell_type": "code",
      "metadata": {
        "id": "UnZvXpNdEfLe",
        "colab_type": "code",
        "colab": {
          "base_uri": "https://localhost:8080/",
          "height": 34
        },
        "outputId": "7b733488-59d5-4090-c1a0-10e0cffded0b"
      },
      "source": [
        "accuracy_test = model.evaluate(X_test, y_test)"
      ],
      "execution_count": 34,
      "outputs": [
        {
          "output_type": "stream",
          "text": [
            "154/154 [==============================] - 0s 157us/step\n"
          ],
          "name": "stdout"
        }
      ]
    },
    {
      "cell_type": "code",
      "metadata": {
        "id": "eN1XHadGFGLv",
        "colab_type": "code",
        "colab": {
          "base_uri": "https://localhost:8080/",
          "height": 34
        },
        "outputId": "459bff3f-ed18-4405-a5d3-d59b8f62c2ec"
      },
      "source": [
        "accuracy_test"
      ],
      "execution_count": 35,
      "outputs": [
        {
          "output_type": "execute_result",
          "data": {
            "text/plain": [
              "[0.5493130854197911, 0.7272727489471436]"
            ]
          },
          "metadata": {
            "tags": []
          },
          "execution_count": 35
        }
      ]
    },
    {
      "cell_type": "code",
      "metadata": {
        "id": "yA1fukxCFN8e",
        "colab_type": "code",
        "colab": {}
      },
      "source": [
        "y_predict = model.predict_classes(X_test)\n",
        "y_pred_prob = model.predict(X_test)"
      ],
      "execution_count": 0,
      "outputs": []
    },
    {
      "cell_type": "code",
      "metadata": {
        "id": "EMIHn6ZlFsW0",
        "colab_type": "code",
        "colab": {}
      },
      "source": [
        "cm = confusion_matrix(y_test, y_predict)"
      ],
      "execution_count": 0,
      "outputs": []
    },
    {
      "cell_type": "code",
      "metadata": {
        "id": "HoNow09tF3XB",
        "colab_type": "code",
        "colab": {
          "base_uri": "https://localhost:8080/",
          "height": 50
        },
        "outputId": "0c356037-701a-4896-815e-452c1798183a"
      },
      "source": [
        "cm"
      ],
      "execution_count": 38,
      "outputs": [
        {
          "output_type": "execute_result",
          "data": {
            "text/plain": [
              "array([[80, 20],\n",
              "       [22, 32]])"
            ]
          },
          "metadata": {
            "tags": []
          },
          "execution_count": 38
        }
      ]
    },
    {
      "cell_type": "code",
      "metadata": {
        "id": "k_a1zRLoF4JT",
        "colab_type": "code",
        "colab": {}
      },
      "source": [
        ""
      ],
      "execution_count": 0,
      "outputs": []
    }
  ]
}
